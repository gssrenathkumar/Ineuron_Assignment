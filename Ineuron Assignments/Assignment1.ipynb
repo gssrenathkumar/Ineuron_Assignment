{
 "cells": [
  {
   "cell_type": "code",
   "execution_count": null,
   "id": "babe3d73-5800-4618-9b3f-b52e4063d04a",
   "metadata": {},
   "outputs": [],
   "source": [
    "1. In the below elements which of them are values or an expression? eg:- values can be\n",
    "integer or string and expressions will be mathematical operators.\n",
    "Ans:\n",
    "    \n",
    "* --> Expressions \n",
    "&#39;hello&#39; --> Values\n",
    "-87.8 --> Expressions\n",
    "- --> Expressions\n",
    "/ --> expressions\n",
    "+ --> Expressions\n",
    "6 --> Values\n"
   ]
  },
  {
   "cell_type": "code",
   "execution_count": null,
   "id": "54fc19b1-344e-4223-a0f3-3e4c8aa21b96",
   "metadata": {},
   "outputs": [],
   "source": [
    "# 2. What is the difference between string and variable?\n",
    "# Variable is like a temporary small storage space where we can store strings ,intergers and other data type values into it\n",
    "# String is a kind of normal alphabetical text or even symbols or numbers can be considered as strings\n"
   ]
  },
  {
   "cell_type": "code",
   "execution_count": null,
   "id": "9d4717b7-b057-4caf-858f-4e97faea7bcd",
   "metadata": {},
   "outputs": [],
   "source": [
    "# 3. Describe three different data types.\n",
    "# Int : Helps to store number values\n",
    "# List : It is similar to array with different data types stored into it\n",
    "# Dictionary: It is also called as Dict which consist of keys and values where we can easily access the values with the help of keys\n"
   ]
  },
  {
   "cell_type": "code",
   "execution_count": null,
   "id": "b1e00de1-df59-498b-8fa2-78c8c42475ad",
   "metadata": {},
   "outputs": [],
   "source": [
    "# 4. What is an expression made up of? What do all expressions do?\n",
    "# Expression are made of variables , numbers , operators etc\n",
    "# It changes according to different programming languages\n"
   ]
  },
  {
   "cell_type": "code",
   "execution_count": null,
   "id": "30f06d7f-5991-44d0-a801-194f84aa074b",
   "metadata": {},
   "outputs": [],
   "source": [
    "# 6. After running the following code, what does the variable bacon contain?\n",
    "bacon = 22\n",
    "bacon + 1\n",
    "# Ans: 23\n"
   ]
  },
  {
   "cell_type": "code",
   "execution_count": 5,
   "id": "6e3d4edd-9ef1-4ebc-a769-c55ad9a877d8",
   "metadata": {},
   "outputs": [
    {
     "data": {
      "text/plain": [
       "'spamspamspam'"
      ]
     },
     "execution_count": 5,
     "metadata": {},
     "output_type": "execute_result"
    }
   ],
   "source": [
    "# 7. What should the values of the following two terms be?\n",
    "\"spam\" + \"spamspam\"\n",
    "\"spam\" * 3\n"
   ]
  },
  {
   "cell_type": "code",
   "execution_count": null,
   "id": "c75a117b-f748-4186-bf95-6f79d7f8eab4",
   "metadata": {},
   "outputs": [],
   "source": [
    "# 8. Why is eggs a valid variable name while 100 is invalid?\n",
    "# Because we cannot create a variable as 100 because already 100 is considred as number by the interpreter so due to this we cannot use it\n"
   ]
  },
  {
   "cell_type": "code",
   "execution_count": null,
   "id": "5ea9ce21-7a69-43b2-9ee3-0493057f385a",
   "metadata": {},
   "outputs": [],
   "source": [
    "# 9. What three functions can be used to get the integer, floating-point number, or string version of a value?\n",
    "\n",
    "# Ans: The int() , float() , and str( ) functions will evaluate to the integer, floating-point number, and string versions of the value passed to them."
   ]
  },
  {
   "cell_type": "code",
   "execution_count": 4,
   "id": "9f099c27-249b-42fe-a69f-12d1c7e87d90",
   "metadata": {},
   "outputs": [
    {
     "data": {
      "text/plain": [
       "'I have eaten99burritos'"
      ]
     },
     "execution_count": 4,
     "metadata": {},
     "output_type": "execute_result"
    }
   ],
   "source": [
    "# 10. Why does this expression cause an error? How can you fix it?\n",
    "\"I have eaten\" + str(99) + \"burritos\""
   ]
  },
  {
   "cell_type": "code",
   "execution_count": null,
   "id": "4329750d-8b2c-4b93-b54a-65508be54005",
   "metadata": {},
   "outputs": [],
   "source": []
  },
  {
   "cell_type": "code",
   "execution_count": null,
   "id": "cd464fd8-bd8f-4386-9c02-e3d14ecab305",
   "metadata": {},
   "outputs": [],
   "source": []
  },
  {
   "cell_type": "code",
   "execution_count": null,
   "id": "106989c5-bbbf-4e42-9e33-e685b3cd3e80",
   "metadata": {},
   "outputs": [],
   "source": []
  },
  {
   "cell_type": "code",
   "execution_count": null,
   "id": "5595405b-c262-4821-a346-452af6359c07",
   "metadata": {},
   "outputs": [],
   "source": []
  },
  {
   "cell_type": "code",
   "execution_count": null,
   "id": "b687e1b7-9f68-4e0e-890a-40cbda47b683",
   "metadata": {},
   "outputs": [],
   "source": []
  },
  {
   "cell_type": "code",
   "execution_count": null,
   "id": "603144f7-679b-4d8c-87bc-b15a90094575",
   "metadata": {},
   "outputs": [],
   "source": []
  },
  {
   "cell_type": "code",
   "execution_count": null,
   "id": "8753a1fc-118a-4701-a7b4-189e836fd61e",
   "metadata": {},
   "outputs": [],
   "source": []
  },
  {
   "cell_type": "code",
   "execution_count": null,
   "id": "1e163de0-97ac-4282-88bb-dd26fd8fb9b6",
   "metadata": {},
   "outputs": [],
   "source": []
  },
  {
   "cell_type": "code",
   "execution_count": null,
   "id": "349cd19d-0c67-4061-8448-9e210518202d",
   "metadata": {},
   "outputs": [],
   "source": []
  },
  {
   "cell_type": "code",
   "execution_count": null,
   "id": "0eb6bfdd-7ddd-404b-811b-9cdb7bc289bf",
   "metadata": {},
   "outputs": [],
   "source": []
  },
  {
   "cell_type": "code",
   "execution_count": null,
   "id": "f951ed28-5e30-4e74-805a-07d58add6d8f",
   "metadata": {},
   "outputs": [],
   "source": []
  },
  {
   "cell_type": "code",
   "execution_count": null,
   "id": "9b249e0c-68b8-48a0-9482-a6499b1b5ca8",
   "metadata": {},
   "outputs": [],
   "source": []
  },
  {
   "cell_type": "code",
   "execution_count": null,
   "id": "ede5993a-309a-4e08-a828-a2fa4f38bb69",
   "metadata": {},
   "outputs": [],
   "source": []
  },
  {
   "cell_type": "code",
   "execution_count": null,
   "id": "272a237b-758b-4524-b220-15b1baa2d156",
   "metadata": {},
   "outputs": [],
   "source": []
  },
  {
   "cell_type": "code",
   "execution_count": null,
   "id": "b646ce8f-09ff-47ec-aa40-b479333e7cae",
   "metadata": {},
   "outputs": [],
   "source": []
  },
  {
   "cell_type": "code",
   "execution_count": null,
   "id": "7217d0ff-0e0f-4cf3-b4ac-394400baffc2",
   "metadata": {},
   "outputs": [],
   "source": []
  },
  {
   "cell_type": "code",
   "execution_count": null,
   "id": "76c7cb03-71e6-4afb-ae43-a1976c8ea277",
   "metadata": {},
   "outputs": [],
   "source": []
  },
  {
   "cell_type": "code",
   "execution_count": null,
   "id": "2ff6cc28-fb23-4466-99b5-6309ecc3f2ba",
   "metadata": {},
   "outputs": [],
   "source": []
  },
  {
   "cell_type": "code",
   "execution_count": null,
   "id": "2ab99e73-9cd2-42c1-a9e3-fee5374526b2",
   "metadata": {},
   "outputs": [],
   "source": []
  },
  {
   "cell_type": "code",
   "execution_count": null,
   "id": "d1c98e85-9065-42c5-8aeb-da8fd14d2f5f",
   "metadata": {},
   "outputs": [],
   "source": []
  },
  {
   "cell_type": "code",
   "execution_count": null,
   "id": "32ac4ba1-03ae-4b5e-bee0-6b06f9c6bd8c",
   "metadata": {},
   "outputs": [],
   "source": []
  },
  {
   "cell_type": "code",
   "execution_count": null,
   "id": "453e0bb3-63b4-4a35-8700-af3eec1f406f",
   "metadata": {},
   "outputs": [],
   "source": []
  },
  {
   "cell_type": "code",
   "execution_count": null,
   "id": "de64d119-d00c-459b-ab44-9190e36dc4a3",
   "metadata": {},
   "outputs": [],
   "source": []
  },
  {
   "cell_type": "code",
   "execution_count": null,
   "id": "2c31ab5d-2eda-42d1-a3e9-86dd7b1eda27",
   "metadata": {},
   "outputs": [],
   "source": []
  }
 ],
 "metadata": {
  "kernelspec": {
   "display_name": "Python 3 (ipykernel)",
   "language": "python",
   "name": "python3"
  },
  "language_info": {
   "codemirror_mode": {
    "name": "ipython",
    "version": 3
   },
   "file_extension": ".py",
   "mimetype": "text/x-python",
   "name": "python",
   "nbconvert_exporter": "python",
   "pygments_lexer": "ipython3",
   "version": "3.9.7"
  }
 },
 "nbformat": 4,
 "nbformat_minor": 5
}
